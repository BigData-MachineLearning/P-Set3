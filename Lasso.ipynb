{
  "nbformat": 4,
  "nbformat_minor": 0,
  "metadata": {
    "colab": {
      "provenance": [],
      "gpuType": "T4",
      "authorship_tag": "ABX9TyMwJNOJ+JaO9XzQTLykfBs8",
      "include_colab_link": true
    },
    "kernelspec": {
      "name": "ir",
      "display_name": "R"
    },
    "language_info": {
      "name": "R"
    }
  },
  "cells": [
    {
      "cell_type": "markdown",
      "metadata": {
        "id": "view-in-github",
        "colab_type": "text"
      },
      "source": [
        "<a href=\"https://colab.research.google.com/github/BigData-MachineLearning/P-Set3/blob/main/Lasso.ipynb\" target=\"_parent\"><img src=\"https://colab.research.google.com/assets/colab-badge.svg\" alt=\"Open In Colab\"/></a>"
      ]
    },
    {
      "cell_type": "code",
      "execution_count": 1,
      "metadata": {
        "colab": {
          "base_uri": "https://localhost:8080/"
        },
        "id": "QKCgX1R6tgeC",
        "outputId": "9d66cf13-4376-4a6f-a635-7cd6edb3a049"
      },
      "outputs": [
        {
          "output_type": "stream",
          "name": "stderr",
          "text": [
            "Installing package into ‘/usr/local/lib/R/site-library’\n",
            "(as ‘lib’ is unspecified)\n",
            "\n",
            "Installing package into ‘/usr/local/lib/R/site-library’\n",
            "(as ‘lib’ is unspecified)\n",
            "\n",
            "also installing the dependencies ‘R.oo’, ‘R.methodsS3’, ‘writexl’, ‘R.utils’\n",
            "\n",
            "\n",
            "\n",
            "rio installed\n",
            "\n",
            "Installing package into ‘/usr/local/lib/R/site-library’\n",
            "(as ‘lib’ is unspecified)\n",
            "\n",
            "also installing the dependencies ‘shape’, ‘future.apply’, ‘numDeriv’, ‘progressr’, ‘SQUAREM’, ‘Rcpp’, ‘diagram’, ‘lava’, ‘listenv’, ‘parallelly’, ‘prodlim’, ‘future’, ‘warp’, ‘iterators’, ‘lhs’, ‘DiceDesign’, ‘patchwork’, ‘globals’, ‘clock’, ‘gower’, ‘ipred’, ‘timeDate’, ‘furrr’, ‘slider’, ‘foreach’, ‘GPfit’, ‘modelenv’, ‘dials’, ‘hardhat’, ‘infer’, ‘modeldata’, ‘parsnip’, ‘recipes’, ‘rsample’, ‘tune’, ‘workflows’, ‘workflowsets’, ‘yardstick’\n",
            "\n",
            "\n",
            "\n",
            "tidymodels installed\n",
            "\n",
            "Installing package into ‘/usr/local/lib/R/site-library’\n",
            "(as ‘lib’ is unspecified)\n",
            "\n",
            "also installing the dependencies ‘RcppTOML’, ‘here’, ‘png’, ‘config’, ‘tfautograph’, ‘reticulate’, ‘tensorflow’, ‘tfruns’, ‘zeallot’\n",
            "\n",
            "\n",
            "\n",
            "keras installed\n",
            "\n",
            "Installing package into ‘/usr/local/lib/R/site-library’\n",
            "(as ‘lib’ is unspecified)\n",
            "\n",
            "\n",
            "discrim installed\n",
            "\n"
          ]
        }
      ],
      "source": [
        "# Usamos la función pactan para llamar las bibliotecas necesarias para el análisis\n",
        "install.packages('pacman')\n",
        "library(pacman)\n",
        "p_load(tidyverse,rio,tidymodels, glmnet)"
      ]
    },
    {
      "cell_type": "code",
      "source": [
        "test <- import(\"/content/test_f.rds\")\n",
        "train <- import(\"/content/train_f.rds\")"
      ],
      "metadata": {
        "id": "ZqJ9VReiwoeB"
      },
      "execution_count": 75,
      "outputs": []
    },
    {
      "cell_type": "code",
      "source": [
        "train[\"work_size\"][is.na(train[\"work_size\"])] <- 0\n",
        "train[\"p5100\"][is.na(train[\"p5100\"])] <- 0\n",
        "\n",
        "test[\"work_size\"][is.na(test[\"work_size\"])] <- 0\n",
        "test[\"p5100\"][is.na(test[\"p5100\"])] <- 0\n"
      ],
      "metadata": {
        "id": "RJhlP8Q5THmR"
      },
      "execution_count": 76,
      "outputs": []
    },
    {
      "cell_type": "code",
      "source": [
        "names(train)"
      ],
      "metadata": {
        "colab": {
          "base_uri": "https://localhost:8080/",
          "height": 69
        },
        "id": "iIyVsQirTdZf",
        "outputId": "af087140-008e-406d-8b37-c4c3df04dbd8"
      },
      "execution_count": 78,
      "outputs": [
        {
          "output_type": "display_data",
          "data": {
            "text/html": [
              "<style>\n",
              ".list-inline {list-style: none; margin:0; padding: 0}\n",
              ".list-inline>li {display: inline-block}\n",
              ".list-inline>li:not(:last-child)::after {content: \"\\00b7\"; padding: 0 .5ex}\n",
              "</style>\n",
              "<ol class=list-inline><li>'id'</li><li>'clase'</li><li>'dominio'</li><li>'p5000'</li><li>'p5010'</li><li>'p5090'</li><li>'p5100'</li><li>'p5130'</li><li>'p5140'</li><li>'nper'</li><li>'npersug'</li><li>'ingtotug'</li><li>'ingtotugarr'</li><li>'ingpcug'</li><li>'li'</li><li>'lp'</li><li>'pobre'</li><li>'indigente'</li><li>'npobres'</li><li>'nindigentes'</li><li>'fex_c'</li><li>'depto'</li><li>'fex_dpto'</li><li>'mean_edad'</li><li>'jefe_mujer'</li><li>'educ_jefe'</li><li>'tasa_afil'</li><li>'reg_salud'</li><li>'num_adult'</li><li>'num_minors'</li><li>'num_ocup'</li><li>'cost_arriendo'</li><li>'cuartos_per'</li><li>'access_finan'</li><li>'bonificaciones'</li><li>'subs_alimeto'</li><li>'pay_alimento'</li><li>'pay_vivienda'</li><li>'pay_otros'</li><li>'primas'</li><li>'mean_hrs_work'</li><li>'work_size'</li><li>'tasa_cotizantes'</li><li>'sub_empleo'</li><li>'disp_trabajar'</li><li>'dinero_trabajo'</li><li>'dinero_arriendo'</li><li>'dinero_externo'</li><li>'dinero_remesas'</li><li>'ayuda_gob'</li></ol>\n"
            ],
            "text/markdown": "1. 'id'\n2. 'clase'\n3. 'dominio'\n4. 'p5000'\n5. 'p5010'\n6. 'p5090'\n7. 'p5100'\n8. 'p5130'\n9. 'p5140'\n10. 'nper'\n11. 'npersug'\n12. 'ingtotug'\n13. 'ingtotugarr'\n14. 'ingpcug'\n15. 'li'\n16. 'lp'\n17. 'pobre'\n18. 'indigente'\n19. 'npobres'\n20. 'nindigentes'\n21. 'fex_c'\n22. 'depto'\n23. 'fex_dpto'\n24. 'mean_edad'\n25. 'jefe_mujer'\n26. 'educ_jefe'\n27. 'tasa_afil'\n28. 'reg_salud'\n29. 'num_adult'\n30. 'num_minors'\n31. 'num_ocup'\n32. 'cost_arriendo'\n33. 'cuartos_per'\n34. 'access_finan'\n35. 'bonificaciones'\n36. 'subs_alimeto'\n37. 'pay_alimento'\n38. 'pay_vivienda'\n39. 'pay_otros'\n40. 'primas'\n41. 'mean_hrs_work'\n42. 'work_size'\n43. 'tasa_cotizantes'\n44. 'sub_empleo'\n45. 'disp_trabajar'\n46. 'dinero_trabajo'\n47. 'dinero_arriendo'\n48. 'dinero_externo'\n49. 'dinero_remesas'\n50. 'ayuda_gob'\n\n\n",
            "text/latex": "\\begin{enumerate*}\n\\item 'id'\n\\item 'clase'\n\\item 'dominio'\n\\item 'p5000'\n\\item 'p5010'\n\\item 'p5090'\n\\item 'p5100'\n\\item 'p5130'\n\\item 'p5140'\n\\item 'nper'\n\\item 'npersug'\n\\item 'ingtotug'\n\\item 'ingtotugarr'\n\\item 'ingpcug'\n\\item 'li'\n\\item 'lp'\n\\item 'pobre'\n\\item 'indigente'\n\\item 'npobres'\n\\item 'nindigentes'\n\\item 'fex\\_c'\n\\item 'depto'\n\\item 'fex\\_dpto'\n\\item 'mean\\_edad'\n\\item 'jefe\\_mujer'\n\\item 'educ\\_jefe'\n\\item 'tasa\\_afil'\n\\item 'reg\\_salud'\n\\item 'num\\_adult'\n\\item 'num\\_minors'\n\\item 'num\\_ocup'\n\\item 'cost\\_arriendo'\n\\item 'cuartos\\_per'\n\\item 'access\\_finan'\n\\item 'bonificaciones'\n\\item 'subs\\_alimeto'\n\\item 'pay\\_alimento'\n\\item 'pay\\_vivienda'\n\\item 'pay\\_otros'\n\\item 'primas'\n\\item 'mean\\_hrs\\_work'\n\\item 'work\\_size'\n\\item 'tasa\\_cotizantes'\n\\item 'sub\\_empleo'\n\\item 'disp\\_trabajar'\n\\item 'dinero\\_trabajo'\n\\item 'dinero\\_arriendo'\n\\item 'dinero\\_externo'\n\\item 'dinero\\_remesas'\n\\item 'ayuda\\_gob'\n\\end{enumerate*}\n",
            "text/plain": [
              " [1] \"id\"              \"clase\"           \"dominio\"         \"p5000\"          \n",
              " [5] \"p5010\"           \"p5090\"           \"p5100\"           \"p5130\"          \n",
              " [9] \"p5140\"           \"nper\"            \"npersug\"         \"ingtotug\"       \n",
              "[13] \"ingtotugarr\"     \"ingpcug\"         \"li\"              \"lp\"             \n",
              "[17] \"pobre\"           \"indigente\"       \"npobres\"         \"nindigentes\"    \n",
              "[21] \"fex_c\"           \"depto\"           \"fex_dpto\"        \"mean_edad\"      \n",
              "[25] \"jefe_mujer\"      \"educ_jefe\"       \"tasa_afil\"       \"reg_salud\"      \n",
              "[29] \"num_adult\"       \"num_minors\"      \"num_ocup\"        \"cost_arriendo\"  \n",
              "[33] \"cuartos_per\"     \"access_finan\"    \"bonificaciones\"  \"subs_alimeto\"   \n",
              "[37] \"pay_alimento\"    \"pay_vivienda\"    \"pay_otros\"       \"primas\"         \n",
              "[41] \"mean_hrs_work\"   \"work_size\"       \"tasa_cotizantes\" \"sub_empleo\"     \n",
              "[45] \"disp_trabajar\"   \"dinero_trabajo\"  \"dinero_arriendo\" \"dinero_externo\" \n",
              "[49] \"dinero_remesas\"  \"ayuda_gob\"      "
            ]
          },
          "metadata": {}
        }
      ]
    },
    {
      "cell_type": "code",
      "source": [
        "train <- train %>% select(p5000,p5010,p5090,p5100,p5100, nper, npersug,li,lp,mean_edad,jefe_mujer,educ_jefe,\n",
        "                          tasa_afil,reg_salud,num_adult,num_minors,num_ocup,cost_arriendo,cuartos_per,\n",
        "                          access_finan,bonificaciones,subs_alimeto,pay_alimento,pay_vivienda,pay_otros,primas,\n",
        "                          mean_hrs_work,work_size,tasa_cotizantes,sub_empleo,disp_trabajar,dinero_trabajo,\n",
        "                          dinero_arriendo, dinero_externo, dinero_remesas, ayuda_gob, ingtotugarr,lp)\n"
      ],
      "metadata": {
        "id": "10-ecbbDTPG2"
      },
      "execution_count": 79,
      "outputs": []
    },
    {
      "cell_type": "code",
      "source": [
        "train <- train |>\n",
        "  mutate( ingtotugarr = as.numeric(ingtotugarr))\n"
      ],
      "metadata": {
        "id": "CrFkqUVZTtOg"
      },
      "execution_count": 80,
      "outputs": []
    },
    {
      "cell_type": "code",
      "source": [
        "lasso_spec <- linear_reg(penalty = tune(), mixture = 1) |>\n",
        "  set_mode(\"regression\") |>\n",
        "  set_engine(\"glmnet\")"
      ],
      "metadata": {
        "id": "i2YL2BsdT266"
      },
      "execution_count": 81,
      "outputs": []
    },
    {
      "cell_type": "code",
      "source": [
        "lasso_recipe <-\n",
        "  recipe(formula = ingtotugarr ~ ., data = train) %>%\n",
        "  step_novel(all_nominal_predictors()) %>%\n",
        "  step_dummy(all_nominal_predictors()) %>%\n",
        "  step_zv(all_predictors()) %>%\n",
        "  step_normalize(all_predictors())"
      ],
      "metadata": {
        "id": "ABPhurq5T3BY"
      },
      "execution_count": 82,
      "outputs": []
    },
    {
      "cell_type": "code",
      "source": [
        "lasso_workflow <- workflow() %>%\n",
        "  add_recipe(lasso_recipe) %>%\n",
        "  add_model(lasso_spec)"
      ],
      "metadata": {
        "id": "-gjdv9eDT3D9"
      },
      "execution_count": 83,
      "outputs": []
    },
    {
      "cell_type": "code",
      "source": [
        "penalty_grid <- grid_regular(penalty(range = c(-2, 2)), levels = 50)"
      ],
      "metadata": {
        "id": "XKqfS11yT3Gk"
      },
      "execution_count": 84,
      "outputs": []
    },
    {
      "cell_type": "code",
      "source": [
        "lasso_folds <- vfold_cv(train, v = 10)"
      ],
      "metadata": {
        "id": "iaCcPdYwVZvJ"
      },
      "execution_count": 85,
      "outputs": []
    },
    {
      "cell_type": "code",
      "source": [
        "lasso_tune <- tune_grid(lasso_workflow,\n",
        "  resamples = lasso_folds,\n",
        "  grid = penalty_grid)"
      ],
      "metadata": {
        "id": "8AnyrlPtV8QP"
      },
      "execution_count": 86,
      "outputs": []
    },
    {
      "cell_type": "code",
      "source": [
        "best_penalty <- select_best(lasso_tune, metric = \"rmse\")"
      ],
      "metadata": {
        "id": "ItPqOOsoXqOY"
      },
      "execution_count": 87,
      "outputs": []
    },
    {
      "cell_type": "code",
      "source": [
        "best_penalty"
      ],
      "metadata": {
        "colab": {
          "base_uri": "https://localhost:8080/",
          "height": 129
        },
        "id": "4SaE9y7EYKrZ",
        "outputId": "d62ea2eb-ee54-4401-9192-a4aa0143edf4"
      },
      "execution_count": 88,
      "outputs": [
        {
          "output_type": "display_data",
          "data": {
            "text/html": [
              "<table class=\"dataframe\">\n",
              "<caption>A tibble: 1 × 2</caption>\n",
              "<thead>\n",
              "\t<tr><th scope=col>penalty</th><th scope=col>.config</th></tr>\n",
              "\t<tr><th scope=col>&lt;dbl&gt;</th><th scope=col>&lt;chr&gt;</th></tr>\n",
              "</thead>\n",
              "<tbody>\n",
              "\t<tr><td>0.01</td><td>Preprocessor1_Model01</td></tr>\n",
              "</tbody>\n",
              "</table>\n"
            ],
            "text/markdown": "\nA tibble: 1 × 2\n\n| penalty &lt;dbl&gt; | .config &lt;chr&gt; |\n|---|---|\n| 0.01 | Preprocessor1_Model01 |\n\n",
            "text/latex": "A tibble: 1 × 2\n\\begin{tabular}{ll}\n penalty & .config\\\\\n <dbl> & <chr>\\\\\n\\hline\n\t 0.01 & Preprocessor1\\_Model01\\\\\n\\end{tabular}\n",
            "text/plain": [
              "  penalty .config              \n",
              "1 0.01    Preprocessor1_Model01"
            ]
          },
          "metadata": {}
        }
      ]
    },
    {
      "cell_type": "code",
      "source": [
        "lasso_final <- finalize_workflow(lasso_workflow, best_penalty)\n",
        "\n",
        "lasso_final_fit <- fit(lasso_final, data = train)"
      ],
      "metadata": {
        "id": "Yd18jIRjYKyB"
      },
      "execution_count": 89,
      "outputs": []
    },
    {
      "cell_type": "code",
      "source": [
        "summary(lasso_final_fit)"
      ],
      "metadata": {
        "colab": {
          "base_uri": "https://localhost:8080/",
          "height": 106
        },
        "id": "mRJN-AdhYU_V",
        "outputId": "03c6ef9d-d3da-44eb-848c-1f8dc37219e6"
      },
      "execution_count": 90,
      "outputs": [
        {
          "output_type": "display_data",
          "data": {
            "text/plain": [
              "        Length Class      Mode   \n",
              "pre     3      stage_pre  list   \n",
              "fit     2      stage_fit  list   \n",
              "post    1      stage_post list   \n",
              "trained 1      -none-     logical"
            ]
          },
          "metadata": {}
        }
      ]
    },
    {
      "cell_type": "code",
      "source": [
        "test<- augment(lasso_final_fit, new_data = test)\n"
      ],
      "metadata": {
        "id": "kRjfkHVAYVBq"
      },
      "execution_count": 91,
      "outputs": []
    },
    {
      "cell_type": "code",
      "source": [
        "submission<- test |> select(id,lp,.pred) |>\n",
        "  rename(ingtotugarr=.pred) |>\n",
        "  mutate(pobre = ifelse(ingtotugarr<lp,1,0)) |>\n",
        "  select(id,pobre)\n",
        "submission"
      ],
      "metadata": {
        "colab": {
          "base_uri": "https://localhost:8080/",
          "height": 1000
        },
        "id": "Nqxp4_Z1ZX56",
        "outputId": "d82eb5eb-118c-475f-e985-7fea0d27d039"
      },
      "execution_count": 92,
      "outputs": [
        {
          "output_type": "display_data",
          "data": {
            "text/html": [
              "<table class=\"dataframe\">\n",
              "<caption>A tibble: 66168 × 2</caption>\n",
              "<thead>\n",
              "\t<tr><th scope=col>id</th><th scope=col>pobre</th></tr>\n",
              "\t<tr><th scope=col>&lt;chr&gt;</th><th scope=col>&lt;dbl&gt;</th></tr>\n",
              "</thead>\n",
              "<tbody>\n",
              "\t<tr><td>2a7ddc2779480d7f19834953</td><td>0</td></tr>\n",
              "\t<tr><td>a0c2e751e582fd49d564f308</td><td>0</td></tr>\n",
              "\t<tr><td>57273d19e8464a5ff66a582b</td><td>0</td></tr>\n",
              "\t<tr><td>418d052ff7878940ab938601</td><td>0</td></tr>\n",
              "\t<tr><td>212a37fc17016a3c78f76852</td><td>0</td></tr>\n",
              "\t<tr><td>7b0b8c4814944383d6c8cef1</td><td>0</td></tr>\n",
              "\t<tr><td>5e02916a18573d43c00da7c7</td><td>0</td></tr>\n",
              "\t<tr><td>927ccc0298577d7009ef94ea</td><td>0</td></tr>\n",
              "\t<tr><td>428494ae91e022e32c269115</td><td>0</td></tr>\n",
              "\t<tr><td>04fa7ce13bbccb6caab02df6</td><td>0</td></tr>\n",
              "\t<tr><td>5e68f7f98336d27342f13b90</td><td>0</td></tr>\n",
              "\t<tr><td>7ac94229c8432f1fdf43012c</td><td>0</td></tr>\n",
              "\t<tr><td>b8f0e2a9866ee8bcf1164a79</td><td>0</td></tr>\n",
              "\t<tr><td>5b020a2cc6b9080ac1c6d10b</td><td>0</td></tr>\n",
              "\t<tr><td>3ea2ac2cf5c8a92b0b915331</td><td>0</td></tr>\n",
              "\t<tr><td>2760c3070efab05dcdbe9914</td><td>1</td></tr>\n",
              "\t<tr><td>6b9c806975b31e19139083c0</td><td>0</td></tr>\n",
              "\t<tr><td>25bf005d169cc3cf0f246f9c</td><td>0</td></tr>\n",
              "\t<tr><td>13f9eaa5b15a5155fa987e97</td><td>0</td></tr>\n",
              "\t<tr><td>f53407b74d13315629bb6ad5</td><td>0</td></tr>\n",
              "\t<tr><td>78890577ce971df864113f35</td><td>0</td></tr>\n",
              "\t<tr><td>803a210a08f482ba5963565f</td><td>0</td></tr>\n",
              "\t<tr><td>63e557070ebb13323a38b0c1</td><td>0</td></tr>\n",
              "\t<tr><td>feb3f32a42bf83769157861a</td><td>0</td></tr>\n",
              "\t<tr><td>a8a5b0dcdabec7d61989d1b3</td><td>0</td></tr>\n",
              "\t<tr><td>7c16ed721899d8a2b3bcc2cb</td><td>0</td></tr>\n",
              "\t<tr><td>27f5e6bec3c4eb9f457f5178</td><td>0</td></tr>\n",
              "\t<tr><td>048fb82681895ec768492f27</td><td>0</td></tr>\n",
              "\t<tr><td>2c6bcece354b34a20cc3f06f</td><td>0</td></tr>\n",
              "\t<tr><td>b96cbb86b943964b00c61a19</td><td>0</td></tr>\n",
              "\t<tr><td>⋮</td><td>⋮</td></tr>\n",
              "\t<tr><td>50b94c50b3dce7d9755205f4</td><td>1</td></tr>\n",
              "\t<tr><td>145cd5dcfe9081ce01d5a6e6</td><td>1</td></tr>\n",
              "\t<tr><td>73bcc03f7ac46af3173cd3da</td><td>0</td></tr>\n",
              "\t<tr><td>2960caf0a15ed962d7940ecf</td><td>0</td></tr>\n",
              "\t<tr><td>95932f698c08f0126b6157df</td><td>0</td></tr>\n",
              "\t<tr><td>590022cf9fb36bc9dc24c281</td><td>0</td></tr>\n",
              "\t<tr><td>14e6af81168673c1b18f9d65</td><td>1</td></tr>\n",
              "\t<tr><td>98d8e045e49c2d54a1f373ba</td><td>0</td></tr>\n",
              "\t<tr><td>a766c919ceb24b9867bea171</td><td>0</td></tr>\n",
              "\t<tr><td>3d5a49aec9b0342b3aefc36c</td><td>0</td></tr>\n",
              "\t<tr><td>9658ce00f700aab76a6bebc8</td><td>0</td></tr>\n",
              "\t<tr><td>fd310125d71b6de13ef1ff17</td><td>0</td></tr>\n",
              "\t<tr><td>3f43d05caaee547155657176</td><td>0</td></tr>\n",
              "\t<tr><td>bfd831b4d75bfd7d646747cb</td><td>0</td></tr>\n",
              "\t<tr><td>92ebca0ae02e1b086a179188</td><td>0</td></tr>\n",
              "\t<tr><td>2d1a495b37dccc5986f2c26d</td><td>0</td></tr>\n",
              "\t<tr><td>f6c1e38419c95f2ed0d55db6</td><td>0</td></tr>\n",
              "\t<tr><td>3a1e89c781b0076c2b1c1b12</td><td>0</td></tr>\n",
              "\t<tr><td>8875e803670ddc8a33463615</td><td>1</td></tr>\n",
              "\t<tr><td>13408e6b3e5b078decde9d9c</td><td>0</td></tr>\n",
              "\t<tr><td>316e7708964250303c38edfa</td><td>0</td></tr>\n",
              "\t<tr><td>d6864a24538eedd663804aca</td><td>0</td></tr>\n",
              "\t<tr><td>9f5fc17c4be4d29e6ca0f60a</td><td>0</td></tr>\n",
              "\t<tr><td>9e730d18bf1e403180de4e9e</td><td>0</td></tr>\n",
              "\t<tr><td>f4b393dc55fd6423f7f0c88d</td><td>0</td></tr>\n",
              "\t<tr><td>e7d3c7cc62acd33867b7b7ee</td><td>0</td></tr>\n",
              "\t<tr><td>710db9f02de9c616f846c72e</td><td>1</td></tr>\n",
              "\t<tr><td>5a0d6b6fad06e4736fb6d95f</td><td>0</td></tr>\n",
              "\t<tr><td>569496964b70185785b57789</td><td>0</td></tr>\n",
              "\t<tr><td>225c4a98fcfad97cf4b08d0f</td><td>0</td></tr>\n",
              "</tbody>\n",
              "</table>\n"
            ],
            "text/markdown": "\nA tibble: 66168 × 2\n\n| id &lt;chr&gt; | pobre &lt;dbl&gt; |\n|---|---|\n| 2a7ddc2779480d7f19834953 | 0 |\n| a0c2e751e582fd49d564f308 | 0 |\n| 57273d19e8464a5ff66a582b | 0 |\n| 418d052ff7878940ab938601 | 0 |\n| 212a37fc17016a3c78f76852 | 0 |\n| 7b0b8c4814944383d6c8cef1 | 0 |\n| 5e02916a18573d43c00da7c7 | 0 |\n| 927ccc0298577d7009ef94ea | 0 |\n| 428494ae91e022e32c269115 | 0 |\n| 04fa7ce13bbccb6caab02df6 | 0 |\n| 5e68f7f98336d27342f13b90 | 0 |\n| 7ac94229c8432f1fdf43012c | 0 |\n| b8f0e2a9866ee8bcf1164a79 | 0 |\n| 5b020a2cc6b9080ac1c6d10b | 0 |\n| 3ea2ac2cf5c8a92b0b915331 | 0 |\n| 2760c3070efab05dcdbe9914 | 1 |\n| 6b9c806975b31e19139083c0 | 0 |\n| 25bf005d169cc3cf0f246f9c | 0 |\n| 13f9eaa5b15a5155fa987e97 | 0 |\n| f53407b74d13315629bb6ad5 | 0 |\n| 78890577ce971df864113f35 | 0 |\n| 803a210a08f482ba5963565f | 0 |\n| 63e557070ebb13323a38b0c1 | 0 |\n| feb3f32a42bf83769157861a | 0 |\n| a8a5b0dcdabec7d61989d1b3 | 0 |\n| 7c16ed721899d8a2b3bcc2cb | 0 |\n| 27f5e6bec3c4eb9f457f5178 | 0 |\n| 048fb82681895ec768492f27 | 0 |\n| 2c6bcece354b34a20cc3f06f | 0 |\n| b96cbb86b943964b00c61a19 | 0 |\n| ⋮ | ⋮ |\n| 50b94c50b3dce7d9755205f4 | 1 |\n| 145cd5dcfe9081ce01d5a6e6 | 1 |\n| 73bcc03f7ac46af3173cd3da | 0 |\n| 2960caf0a15ed962d7940ecf | 0 |\n| 95932f698c08f0126b6157df | 0 |\n| 590022cf9fb36bc9dc24c281 | 0 |\n| 14e6af81168673c1b18f9d65 | 1 |\n| 98d8e045e49c2d54a1f373ba | 0 |\n| a766c919ceb24b9867bea171 | 0 |\n| 3d5a49aec9b0342b3aefc36c | 0 |\n| 9658ce00f700aab76a6bebc8 | 0 |\n| fd310125d71b6de13ef1ff17 | 0 |\n| 3f43d05caaee547155657176 | 0 |\n| bfd831b4d75bfd7d646747cb | 0 |\n| 92ebca0ae02e1b086a179188 | 0 |\n| 2d1a495b37dccc5986f2c26d | 0 |\n| f6c1e38419c95f2ed0d55db6 | 0 |\n| 3a1e89c781b0076c2b1c1b12 | 0 |\n| 8875e803670ddc8a33463615 | 1 |\n| 13408e6b3e5b078decde9d9c | 0 |\n| 316e7708964250303c38edfa | 0 |\n| d6864a24538eedd663804aca | 0 |\n| 9f5fc17c4be4d29e6ca0f60a | 0 |\n| 9e730d18bf1e403180de4e9e | 0 |\n| f4b393dc55fd6423f7f0c88d | 0 |\n| e7d3c7cc62acd33867b7b7ee | 0 |\n| 710db9f02de9c616f846c72e | 1 |\n| 5a0d6b6fad06e4736fb6d95f | 0 |\n| 569496964b70185785b57789 | 0 |\n| 225c4a98fcfad97cf4b08d0f | 0 |\n\n",
            "text/latex": "A tibble: 66168 × 2\n\\begin{tabular}{ll}\n id & pobre\\\\\n <chr> & <dbl>\\\\\n\\hline\n\t 2a7ddc2779480d7f19834953 & 0\\\\\n\t a0c2e751e582fd49d564f308 & 0\\\\\n\t 57273d19e8464a5ff66a582b & 0\\\\\n\t 418d052ff7878940ab938601 & 0\\\\\n\t 212a37fc17016a3c78f76852 & 0\\\\\n\t 7b0b8c4814944383d6c8cef1 & 0\\\\\n\t 5e02916a18573d43c00da7c7 & 0\\\\\n\t 927ccc0298577d7009ef94ea & 0\\\\\n\t 428494ae91e022e32c269115 & 0\\\\\n\t 04fa7ce13bbccb6caab02df6 & 0\\\\\n\t 5e68f7f98336d27342f13b90 & 0\\\\\n\t 7ac94229c8432f1fdf43012c & 0\\\\\n\t b8f0e2a9866ee8bcf1164a79 & 0\\\\\n\t 5b020a2cc6b9080ac1c6d10b & 0\\\\\n\t 3ea2ac2cf5c8a92b0b915331 & 0\\\\\n\t 2760c3070efab05dcdbe9914 & 1\\\\\n\t 6b9c806975b31e19139083c0 & 0\\\\\n\t 25bf005d169cc3cf0f246f9c & 0\\\\\n\t 13f9eaa5b15a5155fa987e97 & 0\\\\\n\t f53407b74d13315629bb6ad5 & 0\\\\\n\t 78890577ce971df864113f35 & 0\\\\\n\t 803a210a08f482ba5963565f & 0\\\\\n\t 63e557070ebb13323a38b0c1 & 0\\\\\n\t feb3f32a42bf83769157861a & 0\\\\\n\t a8a5b0dcdabec7d61989d1b3 & 0\\\\\n\t 7c16ed721899d8a2b3bcc2cb & 0\\\\\n\t 27f5e6bec3c4eb9f457f5178 & 0\\\\\n\t 048fb82681895ec768492f27 & 0\\\\\n\t 2c6bcece354b34a20cc3f06f & 0\\\\\n\t b96cbb86b943964b00c61a19 & 0\\\\\n\t ⋮ & ⋮\\\\\n\t 50b94c50b3dce7d9755205f4 & 1\\\\\n\t 145cd5dcfe9081ce01d5a6e6 & 1\\\\\n\t 73bcc03f7ac46af3173cd3da & 0\\\\\n\t 2960caf0a15ed962d7940ecf & 0\\\\\n\t 95932f698c08f0126b6157df & 0\\\\\n\t 590022cf9fb36bc9dc24c281 & 0\\\\\n\t 14e6af81168673c1b18f9d65 & 1\\\\\n\t 98d8e045e49c2d54a1f373ba & 0\\\\\n\t a766c919ceb24b9867bea171 & 0\\\\\n\t 3d5a49aec9b0342b3aefc36c & 0\\\\\n\t 9658ce00f700aab76a6bebc8 & 0\\\\\n\t fd310125d71b6de13ef1ff17 & 0\\\\\n\t 3f43d05caaee547155657176 & 0\\\\\n\t bfd831b4d75bfd7d646747cb & 0\\\\\n\t 92ebca0ae02e1b086a179188 & 0\\\\\n\t 2d1a495b37dccc5986f2c26d & 0\\\\\n\t f6c1e38419c95f2ed0d55db6 & 0\\\\\n\t 3a1e89c781b0076c2b1c1b12 & 0\\\\\n\t 8875e803670ddc8a33463615 & 1\\\\\n\t 13408e6b3e5b078decde9d9c & 0\\\\\n\t 316e7708964250303c38edfa & 0\\\\\n\t d6864a24538eedd663804aca & 0\\\\\n\t 9f5fc17c4be4d29e6ca0f60a & 0\\\\\n\t 9e730d18bf1e403180de4e9e & 0\\\\\n\t f4b393dc55fd6423f7f0c88d & 0\\\\\n\t e7d3c7cc62acd33867b7b7ee & 0\\\\\n\t 710db9f02de9c616f846c72e & 1\\\\\n\t 5a0d6b6fad06e4736fb6d95f & 0\\\\\n\t 569496964b70185785b57789 & 0\\\\\n\t 225c4a98fcfad97cf4b08d0f & 0\\\\\n\\end{tabular}\n",
            "text/plain": [
              "      id                       pobre\n",
              "1     2a7ddc2779480d7f19834953 0    \n",
              "2     a0c2e751e582fd49d564f308 0    \n",
              "3     57273d19e8464a5ff66a582b 0    \n",
              "4     418d052ff7878940ab938601 0    \n",
              "5     212a37fc17016a3c78f76852 0    \n",
              "6     7b0b8c4814944383d6c8cef1 0    \n",
              "7     5e02916a18573d43c00da7c7 0    \n",
              "8     927ccc0298577d7009ef94ea 0    \n",
              "9     428494ae91e022e32c269115 0    \n",
              "10    04fa7ce13bbccb6caab02df6 0    \n",
              "11    5e68f7f98336d27342f13b90 0    \n",
              "12    7ac94229c8432f1fdf43012c 0    \n",
              "13    b8f0e2a9866ee8bcf1164a79 0    \n",
              "14    5b020a2cc6b9080ac1c6d10b 0    \n",
              "15    3ea2ac2cf5c8a92b0b915331 0    \n",
              "16    2760c3070efab05dcdbe9914 1    \n",
              "17    6b9c806975b31e19139083c0 0    \n",
              "18    25bf005d169cc3cf0f246f9c 0    \n",
              "19    13f9eaa5b15a5155fa987e97 0    \n",
              "20    f53407b74d13315629bb6ad5 0    \n",
              "21    78890577ce971df864113f35 0    \n",
              "22    803a210a08f482ba5963565f 0    \n",
              "23    63e557070ebb13323a38b0c1 0    \n",
              "24    feb3f32a42bf83769157861a 0    \n",
              "25    a8a5b0dcdabec7d61989d1b3 0    \n",
              "26    7c16ed721899d8a2b3bcc2cb 0    \n",
              "27    27f5e6bec3c4eb9f457f5178 0    \n",
              "28    048fb82681895ec768492f27 0    \n",
              "29    2c6bcece354b34a20cc3f06f 0    \n",
              "30    b96cbb86b943964b00c61a19 0    \n",
              "⋮     ⋮                        ⋮    \n",
              "66139 50b94c50b3dce7d9755205f4 1    \n",
              "66140 145cd5dcfe9081ce01d5a6e6 1    \n",
              "66141 73bcc03f7ac46af3173cd3da 0    \n",
              "66142 2960caf0a15ed962d7940ecf 0    \n",
              "66143 95932f698c08f0126b6157df 0    \n",
              "66144 590022cf9fb36bc9dc24c281 0    \n",
              "66145 14e6af81168673c1b18f9d65 1    \n",
              "66146 98d8e045e49c2d54a1f373ba 0    \n",
              "66147 a766c919ceb24b9867bea171 0    \n",
              "66148 3d5a49aec9b0342b3aefc36c 0    \n",
              "66149 9658ce00f700aab76a6bebc8 0    \n",
              "66150 fd310125d71b6de13ef1ff17 0    \n",
              "66151 3f43d05caaee547155657176 0    \n",
              "66152 bfd831b4d75bfd7d646747cb 0    \n",
              "66153 92ebca0ae02e1b086a179188 0    \n",
              "66154 2d1a495b37dccc5986f2c26d 0    \n",
              "66155 f6c1e38419c95f2ed0d55db6 0    \n",
              "66156 3a1e89c781b0076c2b1c1b12 0    \n",
              "66157 8875e803670ddc8a33463615 1    \n",
              "66158 13408e6b3e5b078decde9d9c 0    \n",
              "66159 316e7708964250303c38edfa 0    \n",
              "66160 d6864a24538eedd663804aca 0    \n",
              "66161 9f5fc17c4be4d29e6ca0f60a 0    \n",
              "66162 9e730d18bf1e403180de4e9e 0    \n",
              "66163 f4b393dc55fd6423f7f0c88d 0    \n",
              "66164 e7d3c7cc62acd33867b7b7ee 0    \n",
              "66165 710db9f02de9c616f846c72e 1    \n",
              "66166 5a0d6b6fad06e4736fb6d95f 0    \n",
              "66167 569496964b70185785b57789 0    \n",
              "66168 225c4a98fcfad97cf4b08d0f 0    "
            ]
          },
          "metadata": {}
        }
      ]
    },
    {
      "cell_type": "code",
      "source": [
        "rio::export(submission, \"/content/submission.csv\")"
      ],
      "metadata": {
        "id": "50Dm1-f4akCr"
      },
      "execution_count": 94,
      "outputs": []
    }
  ]
}