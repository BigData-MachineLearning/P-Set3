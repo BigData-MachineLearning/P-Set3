{
  "nbformat": 4,
  "nbformat_minor": 0,
  "metadata": {
    "colab": {
      "provenance": [],
      "authorship_tag": "ABX9TyO1Eo+YJICmphZmJvut+i89",
      "include_colab_link": true
    },
    "kernelspec": {
      "name": "ir",
      "display_name": "R"
    },
    "language_info": {
      "name": "R"
    }
  },
  "cells": [
    {
      "cell_type": "markdown",
      "metadata": {
        "id": "view-in-github",
        "colab_type": "text"
      },
      "source": [
        "<a href=\"https://colab.research.google.com/github/BigData-MachineLearning/P-Set3/blob/main/enet.ipynb\" target=\"_parent\"><img src=\"https://colab.research.google.com/assets/colab-badge.svg\" alt=\"Open In Colab\"/></a>"
      ]
    },
    {
      "cell_type": "code",
      "execution_count": 2,
      "metadata": {
        "colab": {
          "base_uri": "https://localhost:8080/"
        },
        "id": "X7SIMCillgEE",
        "outputId": "af957cf4-306e-4c40-ef28-73ac27120d23"
      },
      "outputs": [
        {
          "output_type": "stream",
          "name": "stderr",
          "text": [
            "Installing package into ‘/usr/local/lib/R/site-library’\n",
            "(as ‘lib’ is unspecified)\n",
            "\n"
          ]
        }
      ],
      "source": [
        "# Usamos la función pacman para llamar las bibliotecas necesarias para el análisis\n",
        "install.packages('pacman')\n",
        "library(pacman)\n",
        "p_load(tidyverse,rio,tidymodels, glmnet)"
      ]
    },
    {
      "cell_type": "code",
      "source": [
        "test <- import(\"/content/test_f.rds\")\n",
        "train <- import(\"/content/train_f.rds\")"
      ],
      "metadata": {
        "id": "zuagJCXSlpnL"
      },
      "execution_count": 3,
      "outputs": []
    },
    {
      "cell_type": "code",
      "source": [
        "train[\"work_size\"][is.na(train[\"work_size\"])] <- 0\n",
        "train[\"p5100\"][is.na(train[\"p5100\"])] <- 0\n",
        "\n",
        "test[\"work_size\"][is.na(test[\"work_size\"])] <- 0\n",
        "test[\"p5100\"][is.na(test[\"p5100\"])] <- 0\n"
      ],
      "metadata": {
        "id": "v1lP9fCblpw3"
      },
      "execution_count": 4,
      "outputs": []
    },
    {
      "cell_type": "code",
      "source": [
        "train <- train %>% select(p5000,p5010,p5090,p5100,p5100, nper, npersug,li,lp,mean_edad,jefe_mujer,educ_jefe,\n",
        "                          tasa_afil,reg_salud,num_adult,num_minors,num_ocup,cost_arriendo,cuartos_per,\n",
        "                          access_finan,bonificaciones,subs_alimeto,pay_alimento,pay_vivienda,pay_otros,primas,\n",
        "                          mean_hrs_work,work_size,tasa_cotizantes,sub_empleo,disp_trabajar,dinero_trabajo,\n",
        "                          dinero_arriendo, dinero_externo, dinero_remesas, ayuda_gob, ingtotugarr,lp)\n"
      ],
      "metadata": {
        "id": "V3oZmDOhlpzg"
      },
      "execution_count": 5,
      "outputs": []
    },
    {
      "cell_type": "code",
      "source": [
        "train <- train |>\n",
        "  mutate( ingtotugarr = as.numeric(ingtotugarr))\n"
      ],
      "metadata": {
        "id": "amNmOl2El6x7"
      },
      "execution_count": 6,
      "outputs": []
    },
    {
      "cell_type": "code",
      "source": [
        "enet_spec <- linear_reg(penalty = tune(), mixture = tune()) |>\n",
        "  set_mode(\"regression\") |>\n",
        "  set_engine(\"glmnet\")"
      ],
      "metadata": {
        "id": "hojfFTOWl7dy"
      },
      "execution_count": 7,
      "outputs": []
    },
    {
      "cell_type": "code",
      "source": [
        "enet_recipe <-\n",
        "  recipe(formula = ingtotugarr ~ ., data = train) %>%\n",
        "  step_novel(all_nominal_predictors()) %>%\n",
        "  step_dummy(all_nominal_predictors()) %>%\n",
        "  step_zv(all_predictors()) %>%\n",
        "  step_normalize(all_predictors())"
      ],
      "metadata": {
        "id": "wCFhWs3Fl7gN"
      },
      "execution_count": 8,
      "outputs": []
    },
    {
      "cell_type": "code",
      "source": [
        "enet_workflow <- workflow() %>%\n",
        "  add_recipe(enet_recipe) %>%\n",
        "  add_model(enet_spec)"
      ],
      "metadata": {
        "id": "Bl1teRlcl7i0"
      },
      "execution_count": 9,
      "outputs": []
    },
    {
      "cell_type": "code",
      "source": [
        "tuning_grid <- grid_regular(penalty(range = c(-2, 2)), mixture(range=c(0,1)) ,levels = c(penalty = 50, mixture = 10))"
      ],
      "metadata": {
        "id": "ZJlJsy-RmDjf"
      },
      "execution_count": 10,
      "outputs": []
    },
    {
      "cell_type": "code",
      "source": [
        "enet_folds <- vfold_cv(train, v = 10)"
      ],
      "metadata": {
        "id": "AauCjhNVmDsB"
      },
      "execution_count": 11,
      "outputs": []
    },
    {
      "cell_type": "code",
      "source": [
        "enet_tune <- tune_grid(enet_workflow,\n",
        "  resamples = enet_folds,\n",
        "  grid = tuning_grid )"
      ],
      "metadata": {
        "id": "1b-eXbefmV4x"
      },
      "execution_count": 13,
      "outputs": []
    },
    {
      "cell_type": "code",
      "source": [
        "best_model <- select_best(enet_tune, metric = \"rmse\")"
      ],
      "metadata": {
        "id": "O8k6fU_smV7E"
      },
      "execution_count": 14,
      "outputs": []
    },
    {
      "cell_type": "code",
      "source": [
        "best_model"
      ],
      "metadata": {
        "colab": {
          "base_uri": "https://localhost:8080/",
          "height": 129
        },
        "id": "54ZOwIxtu--k",
        "outputId": "701bd9ec-21d7-4964-9190-5018d4dd2e9a"
      },
      "execution_count": 16,
      "outputs": [
        {
          "output_type": "display_data",
          "data": {
            "text/html": [
              "<table class=\"dataframe\">\n",
              "<caption>A tibble: 1 × 3</caption>\n",
              "<thead>\n",
              "\t<tr><th scope=col>penalty</th><th scope=col>mixture</th><th scope=col>.config</th></tr>\n",
              "\t<tr><th scope=col>&lt;dbl&gt;</th><th scope=col>&lt;dbl&gt;</th><th scope=col>&lt;chr&gt;</th></tr>\n",
              "</thead>\n",
              "<tbody>\n",
              "\t<tr><td>0.01</td><td>0.1111111</td><td>Preprocessor1_Model051</td></tr>\n",
              "</tbody>\n",
              "</table>\n"
            ],
            "text/markdown": "\nA tibble: 1 × 3\n\n| penalty &lt;dbl&gt; | mixture &lt;dbl&gt; | .config &lt;chr&gt; |\n|---|---|---|\n| 0.01 | 0.1111111 | Preprocessor1_Model051 |\n\n",
            "text/latex": "A tibble: 1 × 3\n\\begin{tabular}{lll}\n penalty & mixture & .config\\\\\n <dbl> & <dbl> & <chr>\\\\\n\\hline\n\t 0.01 & 0.1111111 & Preprocessor1\\_Model051\\\\\n\\end{tabular}\n",
            "text/plain": [
              "  penalty mixture   .config               \n",
              "1 0.01    0.1111111 Preprocessor1_Model051"
            ]
          },
          "metadata": {}
        }
      ]
    },
    {
      "cell_type": "code",
      "source": [
        "enet_final <- finalize_workflow(enet_workflow, best_model)\n",
        "\n",
        "enet_final_fit <- fit(enet_final, data = train)"
      ],
      "metadata": {
        "id": "z3YMODDcmV9h"
      },
      "execution_count": 15,
      "outputs": []
    },
    {
      "cell_type": "code",
      "source": [
        "test<- augment(enet_final_fit, new_data = test)"
      ],
      "metadata": {
        "id": "XrvFL8iGu9f_"
      },
      "execution_count": 17,
      "outputs": []
    },
    {
      "cell_type": "code",
      "source": [
        "submission<- test |> select(id,lp,.pred) |>\n",
        "  rename(ingtotugarr=.pred) |>\n",
        "  mutate(pobre = ifelse(ingtotugarr<lp,1,0)) |>\n",
        "  select(id,pobre)\n",
        "submission"
      ],
      "metadata": {
        "colab": {
          "base_uri": "https://localhost:8080/",
          "height": 1000
        },
        "id": "Vv1bSefRmWAL",
        "outputId": "9bf37733-f81e-4d82-c906-df2d911527dc"
      },
      "execution_count": 18,
      "outputs": [
        {
          "output_type": "display_data",
          "data": {
            "text/html": [
              "<table class=\"dataframe\">\n",
              "<caption>A tibble: 66168 × 2</caption>\n",
              "<thead>\n",
              "\t<tr><th scope=col>id</th><th scope=col>pobre</th></tr>\n",
              "\t<tr><th scope=col>&lt;chr&gt;</th><th scope=col>&lt;dbl&gt;</th></tr>\n",
              "</thead>\n",
              "<tbody>\n",
              "\t<tr><td>2a7ddc2779480d7f19834953</td><td>0</td></tr>\n",
              "\t<tr><td>a0c2e751e582fd49d564f308</td><td>0</td></tr>\n",
              "\t<tr><td>57273d19e8464a5ff66a582b</td><td>0</td></tr>\n",
              "\t<tr><td>418d052ff7878940ab938601</td><td>0</td></tr>\n",
              "\t<tr><td>212a37fc17016a3c78f76852</td><td>0</td></tr>\n",
              "\t<tr><td>7b0b8c4814944383d6c8cef1</td><td>0</td></tr>\n",
              "\t<tr><td>5e02916a18573d43c00da7c7</td><td>0</td></tr>\n",
              "\t<tr><td>927ccc0298577d7009ef94ea</td><td>0</td></tr>\n",
              "\t<tr><td>428494ae91e022e32c269115</td><td>0</td></tr>\n",
              "\t<tr><td>04fa7ce13bbccb6caab02df6</td><td>0</td></tr>\n",
              "\t<tr><td>5e68f7f98336d27342f13b90</td><td>0</td></tr>\n",
              "\t<tr><td>7ac94229c8432f1fdf43012c</td><td>0</td></tr>\n",
              "\t<tr><td>b8f0e2a9866ee8bcf1164a79</td><td>0</td></tr>\n",
              "\t<tr><td>5b020a2cc6b9080ac1c6d10b</td><td>0</td></tr>\n",
              "\t<tr><td>3ea2ac2cf5c8a92b0b915331</td><td>0</td></tr>\n",
              "\t<tr><td>2760c3070efab05dcdbe9914</td><td>1</td></tr>\n",
              "\t<tr><td>6b9c806975b31e19139083c0</td><td>0</td></tr>\n",
              "\t<tr><td>25bf005d169cc3cf0f246f9c</td><td>0</td></tr>\n",
              "\t<tr><td>13f9eaa5b15a5155fa987e97</td><td>0</td></tr>\n",
              "\t<tr><td>f53407b74d13315629bb6ad5</td><td>0</td></tr>\n",
              "\t<tr><td>78890577ce971df864113f35</td><td>0</td></tr>\n",
              "\t<tr><td>803a210a08f482ba5963565f</td><td>0</td></tr>\n",
              "\t<tr><td>63e557070ebb13323a38b0c1</td><td>0</td></tr>\n",
              "\t<tr><td>feb3f32a42bf83769157861a</td><td>0</td></tr>\n",
              "\t<tr><td>a8a5b0dcdabec7d61989d1b3</td><td>0</td></tr>\n",
              "\t<tr><td>7c16ed721899d8a2b3bcc2cb</td><td>0</td></tr>\n",
              "\t<tr><td>27f5e6bec3c4eb9f457f5178</td><td>0</td></tr>\n",
              "\t<tr><td>048fb82681895ec768492f27</td><td>0</td></tr>\n",
              "\t<tr><td>2c6bcece354b34a20cc3f06f</td><td>0</td></tr>\n",
              "\t<tr><td>b96cbb86b943964b00c61a19</td><td>0</td></tr>\n",
              "\t<tr><td>⋮</td><td>⋮</td></tr>\n",
              "\t<tr><td>50b94c50b3dce7d9755205f4</td><td>1</td></tr>\n",
              "\t<tr><td>145cd5dcfe9081ce01d5a6e6</td><td>1</td></tr>\n",
              "\t<tr><td>73bcc03f7ac46af3173cd3da</td><td>0</td></tr>\n",
              "\t<tr><td>2960caf0a15ed962d7940ecf</td><td>0</td></tr>\n",
              "\t<tr><td>95932f698c08f0126b6157df</td><td>0</td></tr>\n",
              "\t<tr><td>590022cf9fb36bc9dc24c281</td><td>0</td></tr>\n",
              "\t<tr><td>14e6af81168673c1b18f9d65</td><td>1</td></tr>\n",
              "\t<tr><td>98d8e045e49c2d54a1f373ba</td><td>0</td></tr>\n",
              "\t<tr><td>a766c919ceb24b9867bea171</td><td>0</td></tr>\n",
              "\t<tr><td>3d5a49aec9b0342b3aefc36c</td><td>0</td></tr>\n",
              "\t<tr><td>9658ce00f700aab76a6bebc8</td><td>0</td></tr>\n",
              "\t<tr><td>fd310125d71b6de13ef1ff17</td><td>0</td></tr>\n",
              "\t<tr><td>3f43d05caaee547155657176</td><td>0</td></tr>\n",
              "\t<tr><td>bfd831b4d75bfd7d646747cb</td><td>0</td></tr>\n",
              "\t<tr><td>92ebca0ae02e1b086a179188</td><td>0</td></tr>\n",
              "\t<tr><td>2d1a495b37dccc5986f2c26d</td><td>0</td></tr>\n",
              "\t<tr><td>f6c1e38419c95f2ed0d55db6</td><td>0</td></tr>\n",
              "\t<tr><td>3a1e89c781b0076c2b1c1b12</td><td>0</td></tr>\n",
              "\t<tr><td>8875e803670ddc8a33463615</td><td>1</td></tr>\n",
              "\t<tr><td>13408e6b3e5b078decde9d9c</td><td>0</td></tr>\n",
              "\t<tr><td>316e7708964250303c38edfa</td><td>0</td></tr>\n",
              "\t<tr><td>d6864a24538eedd663804aca</td><td>0</td></tr>\n",
              "\t<tr><td>9f5fc17c4be4d29e6ca0f60a</td><td>0</td></tr>\n",
              "\t<tr><td>9e730d18bf1e403180de4e9e</td><td>0</td></tr>\n",
              "\t<tr><td>f4b393dc55fd6423f7f0c88d</td><td>0</td></tr>\n",
              "\t<tr><td>e7d3c7cc62acd33867b7b7ee</td><td>0</td></tr>\n",
              "\t<tr><td>710db9f02de9c616f846c72e</td><td>1</td></tr>\n",
              "\t<tr><td>5a0d6b6fad06e4736fb6d95f</td><td>0</td></tr>\n",
              "\t<tr><td>569496964b70185785b57789</td><td>0</td></tr>\n",
              "\t<tr><td>225c4a98fcfad97cf4b08d0f</td><td>0</td></tr>\n",
              "</tbody>\n",
              "</table>\n"
            ],
            "text/markdown": "\nA tibble: 66168 × 2\n\n| id &lt;chr&gt; | pobre &lt;dbl&gt; |\n|---|---|\n| 2a7ddc2779480d7f19834953 | 0 |\n| a0c2e751e582fd49d564f308 | 0 |\n| 57273d19e8464a5ff66a582b | 0 |\n| 418d052ff7878940ab938601 | 0 |\n| 212a37fc17016a3c78f76852 | 0 |\n| 7b0b8c4814944383d6c8cef1 | 0 |\n| 5e02916a18573d43c00da7c7 | 0 |\n| 927ccc0298577d7009ef94ea | 0 |\n| 428494ae91e022e32c269115 | 0 |\n| 04fa7ce13bbccb6caab02df6 | 0 |\n| 5e68f7f98336d27342f13b90 | 0 |\n| 7ac94229c8432f1fdf43012c | 0 |\n| b8f0e2a9866ee8bcf1164a79 | 0 |\n| 5b020a2cc6b9080ac1c6d10b | 0 |\n| 3ea2ac2cf5c8a92b0b915331 | 0 |\n| 2760c3070efab05dcdbe9914 | 1 |\n| 6b9c806975b31e19139083c0 | 0 |\n| 25bf005d169cc3cf0f246f9c | 0 |\n| 13f9eaa5b15a5155fa987e97 | 0 |\n| f53407b74d13315629bb6ad5 | 0 |\n| 78890577ce971df864113f35 | 0 |\n| 803a210a08f482ba5963565f | 0 |\n| 63e557070ebb13323a38b0c1 | 0 |\n| feb3f32a42bf83769157861a | 0 |\n| a8a5b0dcdabec7d61989d1b3 | 0 |\n| 7c16ed721899d8a2b3bcc2cb | 0 |\n| 27f5e6bec3c4eb9f457f5178 | 0 |\n| 048fb82681895ec768492f27 | 0 |\n| 2c6bcece354b34a20cc3f06f | 0 |\n| b96cbb86b943964b00c61a19 | 0 |\n| ⋮ | ⋮ |\n| 50b94c50b3dce7d9755205f4 | 1 |\n| 145cd5dcfe9081ce01d5a6e6 | 1 |\n| 73bcc03f7ac46af3173cd3da | 0 |\n| 2960caf0a15ed962d7940ecf | 0 |\n| 95932f698c08f0126b6157df | 0 |\n| 590022cf9fb36bc9dc24c281 | 0 |\n| 14e6af81168673c1b18f9d65 | 1 |\n| 98d8e045e49c2d54a1f373ba | 0 |\n| a766c919ceb24b9867bea171 | 0 |\n| 3d5a49aec9b0342b3aefc36c | 0 |\n| 9658ce00f700aab76a6bebc8 | 0 |\n| fd310125d71b6de13ef1ff17 | 0 |\n| 3f43d05caaee547155657176 | 0 |\n| bfd831b4d75bfd7d646747cb | 0 |\n| 92ebca0ae02e1b086a179188 | 0 |\n| 2d1a495b37dccc5986f2c26d | 0 |\n| f6c1e38419c95f2ed0d55db6 | 0 |\n| 3a1e89c781b0076c2b1c1b12 | 0 |\n| 8875e803670ddc8a33463615 | 1 |\n| 13408e6b3e5b078decde9d9c | 0 |\n| 316e7708964250303c38edfa | 0 |\n| d6864a24538eedd663804aca | 0 |\n| 9f5fc17c4be4d29e6ca0f60a | 0 |\n| 9e730d18bf1e403180de4e9e | 0 |\n| f4b393dc55fd6423f7f0c88d | 0 |\n| e7d3c7cc62acd33867b7b7ee | 0 |\n| 710db9f02de9c616f846c72e | 1 |\n| 5a0d6b6fad06e4736fb6d95f | 0 |\n| 569496964b70185785b57789 | 0 |\n| 225c4a98fcfad97cf4b08d0f | 0 |\n\n",
            "text/latex": "A tibble: 66168 × 2\n\\begin{tabular}{ll}\n id & pobre\\\\\n <chr> & <dbl>\\\\\n\\hline\n\t 2a7ddc2779480d7f19834953 & 0\\\\\n\t a0c2e751e582fd49d564f308 & 0\\\\\n\t 57273d19e8464a5ff66a582b & 0\\\\\n\t 418d052ff7878940ab938601 & 0\\\\\n\t 212a37fc17016a3c78f76852 & 0\\\\\n\t 7b0b8c4814944383d6c8cef1 & 0\\\\\n\t 5e02916a18573d43c00da7c7 & 0\\\\\n\t 927ccc0298577d7009ef94ea & 0\\\\\n\t 428494ae91e022e32c269115 & 0\\\\\n\t 04fa7ce13bbccb6caab02df6 & 0\\\\\n\t 5e68f7f98336d27342f13b90 & 0\\\\\n\t 7ac94229c8432f1fdf43012c & 0\\\\\n\t b8f0e2a9866ee8bcf1164a79 & 0\\\\\n\t 5b020a2cc6b9080ac1c6d10b & 0\\\\\n\t 3ea2ac2cf5c8a92b0b915331 & 0\\\\\n\t 2760c3070efab05dcdbe9914 & 1\\\\\n\t 6b9c806975b31e19139083c0 & 0\\\\\n\t 25bf005d169cc3cf0f246f9c & 0\\\\\n\t 13f9eaa5b15a5155fa987e97 & 0\\\\\n\t f53407b74d13315629bb6ad5 & 0\\\\\n\t 78890577ce971df864113f35 & 0\\\\\n\t 803a210a08f482ba5963565f & 0\\\\\n\t 63e557070ebb13323a38b0c1 & 0\\\\\n\t feb3f32a42bf83769157861a & 0\\\\\n\t a8a5b0dcdabec7d61989d1b3 & 0\\\\\n\t 7c16ed721899d8a2b3bcc2cb & 0\\\\\n\t 27f5e6bec3c4eb9f457f5178 & 0\\\\\n\t 048fb82681895ec768492f27 & 0\\\\\n\t 2c6bcece354b34a20cc3f06f & 0\\\\\n\t b96cbb86b943964b00c61a19 & 0\\\\\n\t ⋮ & ⋮\\\\\n\t 50b94c50b3dce7d9755205f4 & 1\\\\\n\t 145cd5dcfe9081ce01d5a6e6 & 1\\\\\n\t 73bcc03f7ac46af3173cd3da & 0\\\\\n\t 2960caf0a15ed962d7940ecf & 0\\\\\n\t 95932f698c08f0126b6157df & 0\\\\\n\t 590022cf9fb36bc9dc24c281 & 0\\\\\n\t 14e6af81168673c1b18f9d65 & 1\\\\\n\t 98d8e045e49c2d54a1f373ba & 0\\\\\n\t a766c919ceb24b9867bea171 & 0\\\\\n\t 3d5a49aec9b0342b3aefc36c & 0\\\\\n\t 9658ce00f700aab76a6bebc8 & 0\\\\\n\t fd310125d71b6de13ef1ff17 & 0\\\\\n\t 3f43d05caaee547155657176 & 0\\\\\n\t bfd831b4d75bfd7d646747cb & 0\\\\\n\t 92ebca0ae02e1b086a179188 & 0\\\\\n\t 2d1a495b37dccc5986f2c26d & 0\\\\\n\t f6c1e38419c95f2ed0d55db6 & 0\\\\\n\t 3a1e89c781b0076c2b1c1b12 & 0\\\\\n\t 8875e803670ddc8a33463615 & 1\\\\\n\t 13408e6b3e5b078decde9d9c & 0\\\\\n\t 316e7708964250303c38edfa & 0\\\\\n\t d6864a24538eedd663804aca & 0\\\\\n\t 9f5fc17c4be4d29e6ca0f60a & 0\\\\\n\t 9e730d18bf1e403180de4e9e & 0\\\\\n\t f4b393dc55fd6423f7f0c88d & 0\\\\\n\t e7d3c7cc62acd33867b7b7ee & 0\\\\\n\t 710db9f02de9c616f846c72e & 1\\\\\n\t 5a0d6b6fad06e4736fb6d95f & 0\\\\\n\t 569496964b70185785b57789 & 0\\\\\n\t 225c4a98fcfad97cf4b08d0f & 0\\\\\n\\end{tabular}\n",
            "text/plain": [
              "      id                       pobre\n",
              "1     2a7ddc2779480d7f19834953 0    \n",
              "2     a0c2e751e582fd49d564f308 0    \n",
              "3     57273d19e8464a5ff66a582b 0    \n",
              "4     418d052ff7878940ab938601 0    \n",
              "5     212a37fc17016a3c78f76852 0    \n",
              "6     7b0b8c4814944383d6c8cef1 0    \n",
              "7     5e02916a18573d43c00da7c7 0    \n",
              "8     927ccc0298577d7009ef94ea 0    \n",
              "9     428494ae91e022e32c269115 0    \n",
              "10    04fa7ce13bbccb6caab02df6 0    \n",
              "11    5e68f7f98336d27342f13b90 0    \n",
              "12    7ac94229c8432f1fdf43012c 0    \n",
              "13    b8f0e2a9866ee8bcf1164a79 0    \n",
              "14    5b020a2cc6b9080ac1c6d10b 0    \n",
              "15    3ea2ac2cf5c8a92b0b915331 0    \n",
              "16    2760c3070efab05dcdbe9914 1    \n",
              "17    6b9c806975b31e19139083c0 0    \n",
              "18    25bf005d169cc3cf0f246f9c 0    \n",
              "19    13f9eaa5b15a5155fa987e97 0    \n",
              "20    f53407b74d13315629bb6ad5 0    \n",
              "21    78890577ce971df864113f35 0    \n",
              "22    803a210a08f482ba5963565f 0    \n",
              "23    63e557070ebb13323a38b0c1 0    \n",
              "24    feb3f32a42bf83769157861a 0    \n",
              "25    a8a5b0dcdabec7d61989d1b3 0    \n",
              "26    7c16ed721899d8a2b3bcc2cb 0    \n",
              "27    27f5e6bec3c4eb9f457f5178 0    \n",
              "28    048fb82681895ec768492f27 0    \n",
              "29    2c6bcece354b34a20cc3f06f 0    \n",
              "30    b96cbb86b943964b00c61a19 0    \n",
              "⋮     ⋮                        ⋮    \n",
              "66139 50b94c50b3dce7d9755205f4 1    \n",
              "66140 145cd5dcfe9081ce01d5a6e6 1    \n",
              "66141 73bcc03f7ac46af3173cd3da 0    \n",
              "66142 2960caf0a15ed962d7940ecf 0    \n",
              "66143 95932f698c08f0126b6157df 0    \n",
              "66144 590022cf9fb36bc9dc24c281 0    \n",
              "66145 14e6af81168673c1b18f9d65 1    \n",
              "66146 98d8e045e49c2d54a1f373ba 0    \n",
              "66147 a766c919ceb24b9867bea171 0    \n",
              "66148 3d5a49aec9b0342b3aefc36c 0    \n",
              "66149 9658ce00f700aab76a6bebc8 0    \n",
              "66150 fd310125d71b6de13ef1ff17 0    \n",
              "66151 3f43d05caaee547155657176 0    \n",
              "66152 bfd831b4d75bfd7d646747cb 0    \n",
              "66153 92ebca0ae02e1b086a179188 0    \n",
              "66154 2d1a495b37dccc5986f2c26d 0    \n",
              "66155 f6c1e38419c95f2ed0d55db6 0    \n",
              "66156 3a1e89c781b0076c2b1c1b12 0    \n",
              "66157 8875e803670ddc8a33463615 1    \n",
              "66158 13408e6b3e5b078decde9d9c 0    \n",
              "66159 316e7708964250303c38edfa 0    \n",
              "66160 d6864a24538eedd663804aca 0    \n",
              "66161 9f5fc17c4be4d29e6ca0f60a 0    \n",
              "66162 9e730d18bf1e403180de4e9e 0    \n",
              "66163 f4b393dc55fd6423f7f0c88d 0    \n",
              "66164 e7d3c7cc62acd33867b7b7ee 0    \n",
              "66165 710db9f02de9c616f846c72e 1    \n",
              "66166 5a0d6b6fad06e4736fb6d95f 0    \n",
              "66167 569496964b70185785b57789 0    \n",
              "66168 225c4a98fcfad97cf4b08d0f 0    "
            ]
          },
          "metadata": {}
        }
      ]
    },
    {
      "cell_type": "code",
      "source": [
        "rio::export(submission, \"/content/regresion_elasticnet1.csv\")"
      ],
      "metadata": {
        "id": "iaoFsRmavQvD"
      },
      "execution_count": 19,
      "outputs": []
    }
  ]
}